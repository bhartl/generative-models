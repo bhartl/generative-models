{
 "cells": [
  {
   "cell_type": "markdown",
   "metadata": {},
   "source": [
    "# Energy Based Generative Model -- Maximum Entropy"
   ]
  },
  {
   "cell_type": "code",
   "execution_count": 71,
   "metadata": {},
   "outputs": [
    {
     "name": "stdout",
     "output_type": "stream",
     "text": [
      "The autoreload extension is already loaded. To reload it, use:\n",
      "  %reload_ext autoreload\n"
     ]
    }
   ],
   "source": [
    "%load_ext autoreload\n",
    "%autoreload 2"
   ]
  },
  {
   "cell_type": "markdown",
   "metadata": {},
   "source": [
    "## Features: Classifier on MNIST Dataset\n",
    "example from [keras documentation](https://keras.io/examples/mnist_cnn/)"
   ]
  },
  {
   "cell_type": "code",
   "execution_count": 72,
   "metadata": {},
   "outputs": [
    {
     "name": "stdout",
     "output_type": "stream",
     "text": [
      "X_train shape: (60000, 784)\n",
      "60000 train samples\n",
      "10000 test samples\n",
      "Train on 60000 samples, validate on 10000 samples\n",
      "Epoch 1/12\n",
      "60000/60000 [==============================] - 2s 34us/step - loss: 0.6399 - acc: 0.8407 - val_loss: 0.3643 - val_acc: 0.9029\n",
      "Epoch 2/12\n",
      "60000/60000 [==============================] - 1s 18us/step - loss: 0.3502 - acc: 0.9025 - val_loss: 0.3126 - val_acc: 0.9128\n",
      "Epoch 3/12\n",
      "60000/60000 [==============================] - 1s 18us/step - loss: 0.3160 - acc: 0.9126 - val_loss: 0.2933 - val_acc: 0.9181\n",
      "Epoch 4/12\n",
      "60000/60000 [==============================] - 1s 18us/step - loss: 0.3005 - acc: 0.9164 - val_loss: 0.2868 - val_acc: 0.9208\n",
      "Epoch 5/12\n",
      "60000/60000 [==============================] - 1s 19us/step - loss: 0.2916 - acc: 0.9187 - val_loss: 0.2807 - val_acc: 0.9213\n",
      "Epoch 6/12\n",
      "60000/60000 [==============================] - 1s 20us/step - loss: 0.2851 - acc: 0.9213 - val_loss: 0.2772 - val_acc: 0.9212\n",
      "Epoch 7/12\n",
      "60000/60000 [==============================] - 1s 18us/step - loss: 0.2801 - acc: 0.9221 - val_loss: 0.2777 - val_acc: 0.9227\n",
      "Epoch 8/12\n",
      "60000/60000 [==============================] - 1s 21us/step - loss: 0.2762 - acc: 0.9231 - val_loss: 0.2716 - val_acc: 0.9241\n",
      "Epoch 9/12\n",
      "60000/60000 [==============================] - 1s 18us/step - loss: 0.2729 - acc: 0.9242 - val_loss: 0.2702 - val_acc: 0.9237\n",
      "Epoch 10/12\n",
      "60000/60000 [==============================] - 1s 19us/step - loss: 0.2705 - acc: 0.9252 - val_loss: 0.2699 - val_acc: 0.9241\n",
      "Epoch 11/12\n",
      "60000/60000 [==============================] - 1s 19us/step - loss: 0.2683 - acc: 0.9255 - val_loss: 0.2689 - val_acc: 0.9242\n",
      "Epoch 12/12\n",
      "60000/60000 [==============================] - 1s 19us/step - loss: 0.2664 - acc: 0.9258 - val_loss: 0.2681 - val_acc: 0.9244\n",
      "Test loss: 0.26813722020983694\n",
      "Test accuracy: 0.9244\n"
     ]
    }
   ],
   "source": [
    "from keras.datasets import mnist\n",
    "from keras.models import Sequential\n",
    "from keras.layers import Dense, Dropout, Flatten\n",
    "from keras.layers import Conv2D, MaxPooling2D\n",
    "from keras.layers import Reshape\n",
    "from keras.utils import to_categorical\n",
    "from keras.losses import categorical_crossentropy\n",
    "from keras.optimizers import Adadelta\n",
    "from keras import backend as K\n",
    "\n",
    "batch_size = 128\n",
    "num_classes = 10\n",
    "epochs = 12\n",
    "\n",
    "# input image dimensions\n",
    "img_rows, img_cols = 28, 28\n",
    "\n",
    "# load mnist data set\n",
    "(X_train, y_train), (X_test, y_test) = mnist.load_data()\n",
    "\n",
    "# flatten input (for maxent search)\n",
    "X_train = X_train.reshape(X_train.shape[0], img_rows * img_cols)\n",
    "X_test = X_test.reshape(X_test.shape[0], img_rows * img_cols)\n",
    "\n",
    "# input shape for conv2d model\n",
    "if K.image_data_format() == 'channels_first':\n",
    "    input_shape = (1, img_rows, img_cols)\n",
    "else:\n",
    "    input_shape = (img_rows, img_cols, 1)\n",
    "\n",
    "# Normalizing data\n",
    "X_train = X_train.astype(\"float32\")\n",
    "X_test = X_test.astype(\"float32\")\n",
    "X_train /= 255.0\n",
    "X_test /= 255.0\n",
    "\n",
    "print('X_train shape:', X_train.shape)\n",
    "print(X_train.shape[0], 'train samples')\n",
    "print(X_test.shape[0], 'test samples')\n",
    "# convert class vectors to binary class matrices\n",
    "y_train = to_categorical(y_train, num_classes)\n",
    "y_test = to_categorical(y_test, num_classes)\n",
    "\n",
    "model = Sequential()\n",
    "# model.add(Reshape(input_shape))\n",
    "# model.add(Conv2D(32, kernel_size=(3, 3), activation='relu', input_shape=input_shape))\n",
    "# model.add(Conv2D(64, (3, 3), activation='relu'))\n",
    "# model.add(MaxPooling2D(pool_size=(2, 2)))\n",
    "# model.add(Dropout(0.25))\n",
    "# model.add(Flatten())\n",
    "# model.add(Dense(128, activation='relu'))\n",
    "# model.add(Dropout(0.5))\n",
    "model.add(Dense(num_classes, activation='softmax'))\n",
    "\n",
    "model.compile(loss=categorical_crossentropy,\n",
    "              optimizer=Adadelta(),\n",
    "              metrics=['accuracy'])\n",
    "\n",
    "model.fit(X_train, y_train,\n",
    "          batch_size=batch_size,\n",
    "          epochs=epochs,\n",
    "          verbose=1,\n",
    "          validation_data=(X_test, y_test))\n",
    "\n",
    "score = model.evaluate(X_test, y_test, verbose=0)\n",
    "print('Test loss:', score[0])\n",
    "print('Test accuracy:', score[1])"
   ]
  },
  {
   "cell_type": "code",
   "execution_count": 79,
   "metadata": {},
   "outputs": [],
   "source": [
    "model.save('models/mnist_softmax.hdf5')"
   ]
  },
  {
   "cell_type": "markdown",
   "metadata": {},
   "source": [
    "## Generative Model\n",
    "- feature function: model softmax prediction\n",
    "- learn weights"
   ]
  },
  {
   "cell_type": "code",
   "execution_count": 73,
   "metadata": {},
   "outputs": [],
   "source": [
    "features = model.predict"
   ]
  },
  {
   "cell_type": "code",
   "execution_count": 77,
   "metadata": {},
   "outputs": [
    {
     "data": {
      "text/plain": [
       "(100, 784)"
      ]
     },
     "execution_count": 77,
     "metadata": {},
     "output_type": "execute_result"
    }
   ],
   "source": [
    "Xt = X_test[:100]\n",
    "Xt.shape"
   ]
  },
  {
   "cell_type": "code",
   "execution_count": 78,
   "metadata": {},
   "outputs": [
    {
     "data": {
      "image/png": "[encoded data removed]",
      "text/plain": [
       "<Figure size 432x288 with 1 Axes>"
      ]
     },
     "metadata": {
      "needs_background": "light"
     },
     "output_type": "display_data"
    }
   ],
   "source": [
    "import matplotlib.pyplot as plt\n",
    "import numpy as np\n",
    "for f in features(Xt):\n",
    "    plt.bar(np.arange(10), f)\n",
    "\n",
    "# plt.bar(np.arange(10), np.random.rand(*Xt[0].shape)[0])\n"
   ]
  },
  {
   "cell_type": "code",
   "execution_count": 18,
   "metadata": {},
   "outputs": [],
   "source": [
    "from gempy import MnistGenerator"
   ]
  }
 ],
 "metadata": {
  "kernelspec": {
   "display_name": "Python 3",
   "language": "python",
   "name": "python3"
  },
  "language_info": {
   "codemirror_mode": {
    "name": "ipython",
    "version": 3
   },
   "file_extension": ".py",
   "mimetype": "text/x-python",
   "name": "python",
   "nbconvert_exporter": "python",
   "pygments_lexer": "ipython3",
   "version": "3.6.7"
  }
 },
 "nbformat": 4,
 "nbformat_minor": 2
}
