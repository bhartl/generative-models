{
 "cells": [
  {
   "cell_type": "markdown",
   "metadata": {},
   "source": [
    "# Energy Based Generative Model -- Maximum Entropy"
   ]
  },
  {
   "cell_type": "code",
   "execution_count": 1,
   "metadata": {},
   "outputs": [],
   "source": [
    "%load_ext autoreload\n",
    "%autoreload 2"
   ]
  },
  {
   "cell_type": "markdown",
   "metadata": {},
   "source": [
    "## Classifier on MNIST Dataset\n",
    "example from [keras documentation](https://keras.io/examples/mnist_cnn/)"
   ]
  },
  {
   "cell_type": "code",
   "execution_count": 114,
   "metadata": {},
   "outputs": [
    {
     "name": "stdout",
     "output_type": "stream",
     "text": [
      "X_train shape: (60000, 784)\n",
      "60000 train samples\n",
      "10000 test samples\n",
      "Train on 60000 samples, validate on 10000 samples\n",
      "Epoch 1/12\n",
      "60000/60000 [==============================] - 35s 584us/step - loss: 0.2764 - acc: 0.9151 - val_loss: 0.0598 - val_acc: 0.9809\n",
      "Epoch 2/12\n",
      "60000/60000 [==============================] - 34s 567us/step - loss: 0.0913 - acc: 0.9730 - val_loss: 0.0400 - val_acc: 0.9869\n",
      "Epoch 3/12\n",
      "60000/60000 [==============================] - 34s 568us/step - loss: 0.0660 - acc: 0.9801 - val_loss: 0.0352 - val_acc: 0.9885\n",
      "Epoch 4/12\n",
      "60000/60000 [==============================] - 34s 566us/step - loss: 0.0561 - acc: 0.9833 - val_loss: 0.0355 - val_acc: 0.9879\n",
      "Epoch 5/12\n",
      "60000/60000 [==============================] - 34s 570us/step - loss: 0.0492 - acc: 0.9851 - val_loss: 0.0325 - val_acc: 0.9887\n",
      "Epoch 6/12\n",
      "60000/60000 [==============================] - 34s 566us/step - loss: 0.0417 - acc: 0.9874 - val_loss: 0.0321 - val_acc: 0.9901\n",
      "Epoch 7/12\n",
      "60000/60000 [==============================] - 34s 568us/step - loss: 0.0373 - acc: 0.9885 - val_loss: 0.0289 - val_acc: 0.9908\n",
      "Epoch 8/12\n",
      "60000/60000 [==============================] - 34s 567us/step - loss: 0.0347 - acc: 0.9892 - val_loss: 0.0295 - val_acc: 0.9903\n",
      "Epoch 9/12\n",
      "60000/60000 [==============================] - 34s 567us/step - loss: 0.0327 - acc: 0.9901 - val_loss: 0.0279 - val_acc: 0.9906\n",
      "Epoch 10/12\n",
      "60000/60000 [==============================] - 34s 568us/step - loss: 0.0309 - acc: 0.9904 - val_loss: 0.0301 - val_acc: 0.9904\n",
      "Epoch 11/12\n",
      "60000/60000 [==============================] - 34s 568us/step - loss: 0.0300 - acc: 0.9904 - val_loss: 0.0259 - val_acc: 0.9919\n",
      "Epoch 12/12\n",
      "60000/60000 [==============================] - 34s 566us/step - loss: 0.0278 - acc: 0.9914 - val_loss: 0.0295 - val_acc: 0.9902\n",
      "Test loss: 0.0294949680955302\n",
      "Test accuracy: 0.9902\n"
     ]
    }
   ],
   "source": [
    "from keras.datasets import mnist\n",
    "from keras.models import Sequential\n",
    "from keras.layers import Dense, Dropout, Flatten\n",
    "from keras.layers import Conv2D, MaxPooling2D\n",
    "from keras.layers import Reshape\n",
    "from keras.utils import to_categorical\n",
    "from keras.losses import categorical_crossentropy\n",
    "from keras.optimizers import Adadelta\n",
    "from keras import backend as K\n",
    "\n",
    "batch_size = 128\n",
    "num_classes = 10\n",
    "epochs = 12\n",
    "\n",
    "# input image dimensions\n",
    "img_rows, img_cols = 28, 28\n",
    "\n",
    "# load mnist data set\n",
    "(X_train, y_train), (X_test, y_test) = mnist.load_data()\n",
    "\n",
    "# flatten input (for maxent search)\n",
    "X_train = X_train.reshape(X_train.shape[0], img_rows * img_cols)\n",
    "X_test = X_test.reshape(X_test.shape[0], img_rows * img_cols)\n",
    "\n",
    "# input shape for conv2d model\n",
    "if K.image_data_format() == 'channels_first':\n",
    "    input_shape = (1, img_rows, img_cols)\n",
    "else:\n",
    "    input_shape = (img_rows, img_cols, 1)\n",
    "\n",
    "# Normalizing data\n",
    "X_train = X_train.astype(\"float32\")\n",
    "X_test = X_test.astype(\"float32\")\n",
    "X_train /= 255.0\n",
    "X_test /= 255.0\n",
    "\n",
    "print('X_train shape:', X_train.shape)\n",
    "print(X_train.shape[0], 'train samples')\n",
    "print(X_test.shape[0], 'test samples')\n",
    "# convert class vectors to binary class matrices\n",
    "y_train = to_categorical(y_train, num_classes)\n",
    "y_test = to_categorical(y_test, num_classes)\n",
    "\n",
    "model = Sequential()\n",
    "model.add(Reshape(input_shape))\n",
    "model.add(Conv2D(32, kernel_size=(3, 3), activation='relu', input_shape=input_shape))\n",
    "model.add(Conv2D(64, (3, 3), activation='relu'))\n",
    "model.add(MaxPooling2D(pool_size=(2, 2)))\n",
    "model.add(Dropout(0.25))\n",
    "model.add(Flatten())\n",
    "model.add(Dense(128, activation='relu'))\n",
    "model.add(Dropout(0.5))\n",
    "model.add(Dense(num_classes, activation='softmax'))\n",
    "\n",
    "model.compile(loss=categorical_crossentropy,\n",
    "              optimizer=Adadelta(),\n",
    "              metrics=['accuracy'])\n",
    "\n",
    "model.fit(X_train, y_train,\n",
    "          batch_size=batch_size,\n",
    "          epochs=epochs,\n",
    "          verbose=1,\n",
    "          validation_data=(X_test, y_test))\n",
    "\n",
    "score = model.evaluate(X_test, y_test, verbose=0)\n",
    "print('Test loss:', score[0])\n",
    "print('Test accuracy:', score[1])"
   ]
  },
  {
   "cell_type": "code",
   "execution_count": 116,
   "metadata": {},
   "outputs": [],
   "source": [
    "model.save('dat/mnist_cnn.hdf5')"
   ]
  },
  {
   "cell_type": "markdown",
   "metadata": {},
   "source": [
    "## Generative Model\n",
    "- feature function: $\\langle x_i \\rangle$ and $\\langle x_i x_j\\rangle$\n",
    "- learn weights: $\\lambda_i$ and $\\lambda_{ij}$ for nearest neighbours"
   ]
  },
  {
   "cell_type": "code",
   "execution_count": 218,
   "metadata": {},
   "outputs": [
    {
     "name": "stdout",
     "output_type": "stream",
     "text": [
      "/home/bhartl/projects/generative-models/gempy/mnist\n"
     ]
    }
   ],
   "source": [
    "%cd gempy/mnist"
   ]
  },
  {
   "cell_type": "code",
   "execution_count": null,
   "metadata": {},
   "outputs": [],
   "source": [
    "from gempy.mnist import MnistGenerator\n",
    "import matplotlib.pyplot as plt\n",
    "import numpy as np\n",
    "\n",
    "\n",
    "kwargs = dict(    \n",
    "    maxsteps=3000, \n",
    "    batch_size=16, \n",
    "    n_sweeps=1, \n",
    "    learning_rate=1e-2, \n",
    "    save_fig=10, \n",
    "    reg_l2=0.07, \n",
    ")"
   ]
  },
  {
   "cell_type": "markdown",
   "metadata": {},
   "source": [
    "### Fit number `0`"
   ]
  },
  {
   "cell_type": "code",
   "execution_count": null,
   "metadata": {},
   "outputs": [
    {
     "name": "stdout",
     "output_type": "stream",
     "text": [
      "*** train on 6903 `0`s in the mnist dataset ***\n",
      "*** start fitting maxent model ***\n",
      "step: 491/3000, drawn samples: 16 (0.448), loss: 34.237"
     ]
    }
   ],
   "source": [
    "mnist_zero = MnistGenerator.main(train_on=0, export_path='dat/mnist_0', **kwargs)"
   ]
  },
  {
   "cell_type": "markdown",
   "metadata": {},
   "source": [
    "### Fit number `1`"
   ]
  },
  {
   "cell_type": "code",
   "execution_count": null,
   "metadata": {},
   "outputs": [],
   "source": [
    "mnist_one = MnistGenerator.main(train_on=1, export_path='dat/mnist_1', **kwargs)"
   ]
  },
  {
   "cell_type": "markdown",
   "metadata": {},
   "source": [
    "### Fit number `2`"
   ]
  },
  {
   "cell_type": "code",
   "execution_count": null,
   "metadata": {
    "scrolled": true
   },
   "outputs": [],
   "source": [
    "mnist_two = MnistGenerator.main(train_on=2, export_path='dat/mnist_2', **kwargs)"
   ]
  },
  {
   "cell_type": "markdown",
   "metadata": {},
   "source": [
    "### Fit number `3`"
   ]
  },
  {
   "cell_type": "code",
   "execution_count": null,
   "metadata": {},
   "outputs": [],
   "source": [
    "mnist_three = MnistGenerator.main(train_on=3, export_path='dat/mnist_3', **kwargs)"
   ]
  },
  {
   "cell_type": "markdown",
   "metadata": {},
   "source": [
    "### Fit number `4`"
   ]
  },
  {
   "cell_type": "code",
   "execution_count": null,
   "metadata": {},
   "outputs": [],
   "source": [
    "mnist_four = MnistGenerator.main(train_on=4, export_path='dat/mnist_4', **kwargs)"
   ]
  },
  {
   "cell_type": "markdown",
   "metadata": {},
   "source": [
    "### Fit number `5`"
   ]
  },
  {
   "cell_type": "code",
   "execution_count": null,
   "metadata": {},
   "outputs": [],
   "source": [
    "mnist_five = MnistGenerator.main(train_on=5, export_path='dat/mnist_5', **kwargs)"
   ]
  },
  {
   "cell_type": "markdown",
   "metadata": {},
   "source": [
    "### Fit number `6`"
   ]
  },
  {
   "cell_type": "code",
   "execution_count": null,
   "metadata": {},
   "outputs": [],
   "source": [
    "mnist_six = MnistGenerator.main(train_on=6, export_path='dat/mnist_6', **kwargs)"
   ]
  },
  {
   "cell_type": "markdown",
   "metadata": {},
   "source": [
    "### Fit number `7`"
   ]
  },
  {
   "cell_type": "code",
   "execution_count": null,
   "metadata": {},
   "outputs": [],
   "source": [
    "mnist_seven = MnistGenerator.main(train_on=7, export_path='dat/mnist_7', **kwargs)"
   ]
  },
  {
   "cell_type": "markdown",
   "metadata": {},
   "source": [
    "### Fit number `8`"
   ]
  },
  {
   "cell_type": "code",
   "execution_count": null,
   "metadata": {},
   "outputs": [],
   "source": [
    "mnist_eight = MnistGenerator.main(train_on=8, export_path='dat/mnist_8', **kwargs)"
   ]
  },
  {
   "cell_type": "markdown",
   "metadata": {},
   "source": [
    "### Fit number `9`"
   ]
  },
  {
   "cell_type": "code",
   "execution_count": null,
   "metadata": {},
   "outputs": [],
   "source": [
    "mnist_nine = MnistGenerator.main(train_on=9, export_path='dat/mnist_9', **kwargs)"
   ]
  },
  {
   "cell_type": "markdown",
   "metadata": {},
   "source": [
    "### Generate numbers from generative models"
   ]
  },
  {
   "cell_type": "code",
   "execution_count": 204,
   "metadata": {},
   "outputs": [],
   "source": [
    "def draw_number(n, n_sweeps=100, beta=1.):\n",
    "    s = str(n)\n",
    "    \n",
    "    sampler = [\n",
    "        mnist_zero, mnist_one, mnist_two, mnist_three, mnist_four, \n",
    "        mnist_five, mnist_six, mnist_seven, mnist_eight, mnist_nine, \n",
    "    ]\n",
    "    \n",
    "    numbers = []\n",
    "    for si in s:\n",
    "        i = int(si)\n",
    "        assert 0 <= i <= 9\n",
    "        print(\"sample \", i)\n",
    "        mnist_i = sampler[i]\n",
    "        sample_i = mnist_i.sample(n_samples=1, n_sweeps=n_sweeps, beta=beta)\n",
    "        \n",
    "        try:\n",
    "            print()\n",
    "            print('model prediction: ', np.argmax(model.predict(.5*(sample_i.reshape((1,28*28)) + 1.))), '\\n')\n",
    "        except:\n",
    "            pass\n",
    "        \n",
    "        numbers.append(sample_i[0].reshape((28, 28)))\n",
    "    \n",
    "    return np.concatenate(numbers, axis=1)"
   ]
  },
  {
   "cell_type": "code",
   "execution_count": 214,
   "metadata": {
    "scrolled": true
   },
   "outputs": [
    {
     "name": "stdout",
     "output_type": "stream",
     "text": [
      "sample  0\n",
      "step: 2000/2000, drawn samples: 1 (0.276), loss: 40.369\n",
      "model prediction:  0 \n",
      "\n",
      "sample  1\n",
      "step: 3100/3100, drawn samples: 1 (0.218), loss: ---\n",
      "model prediction:  1 \n",
      "\n"
     ]
    }
   ],
   "source": [
    "fantasy_number = draw_number(\"01\", n_sweeps=20, beta=10.)"
   ]
  },
  {
   "cell_type": "code",
   "execution_count": 215,
   "metadata": {},
   "outputs": [
    {
     "data": {
      "text/plain": [
       "<function matplotlib.pyplot.plot(*args, scalex=True, scaley=True, data=None, **kwargs)>"
      ]
     },
     "execution_count": 215,
     "metadata": {},
     "output_type": "execute_result"
    },
    {
     "data": {
      "image/png": "[encoded data removed]",
      "text/plain": [
       "<Figure size 1440x360 with 1 Axes>"
      ]
     },
     "metadata": {},
     "output_type": "display_data"
    }
   ],
   "source": [
    "%matplotlib inline\n",
    "\n",
    "plt.figure(figsize=(20, 5))\n",
    "plt.imshow(fantasy_number, cmap='binary_r')\n",
    "plt.xticks([])\n",
    "plt.yticks([])\n",
    "plt.plot"
   ]
  },
  {
   "cell_type": "code",
   "execution_count": null,
   "metadata": {},
   "outputs": [],
   "source": []
  },
  {
   "cell_type": "code",
   "execution_count": null,
   "metadata": {},
   "outputs": [],
   "source": []
  }
 ],
 "metadata": {
  "kernelspec": {
   "display_name": "Python 3",
   "language": "python",
   "name": "python3"
  },
  "language_info": {
   "codemirror_mode": {
    "name": "ipython",
    "version": 3
   },
   "file_extension": ".py",
   "mimetype": "text/x-python",
   "name": "python",
   "nbconvert_exporter": "python",
   "pygments_lexer": "ipython3",
   "version": "3.7.5"
  }
 },
 "nbformat": 4,
 "nbformat_minor": 2
}
