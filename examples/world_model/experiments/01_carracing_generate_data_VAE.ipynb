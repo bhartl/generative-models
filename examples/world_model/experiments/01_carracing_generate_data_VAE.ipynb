{
 "cells": [
  {
   "cell_type": "code",
   "execution_count": 1,
   "id": "936f4750",
   "metadata": {},
   "outputs": [],
   "source": [
    "%load_ext autoreload\n",
    "%autoreload 2"
   ]
  },
  {
   "cell_type": "code",
   "execution_count": 2,
   "id": "2e3060a1",
   "metadata": {},
   "outputs": [
    {
     "data": {
      "text/plain": [
       "'/home/bene/projects/generative-models/examples/world_model/experiments'"
      ]
     },
     "execution_count": 2,
     "metadata": {},
     "output_type": "execute_result"
    }
   ],
   "source": [
    "%pwd"
   ]
  },
  {
   "cell_type": "code",
   "execution_count": 3,
   "id": "2b8dc18d",
   "metadata": {},
   "outputs": [
    {
     "name": "stdout",
     "output_type": "stream",
     "text": [
      "/home/bene/projects/generative-models\n"
     ]
    },
    {
     "data": {
      "text/plain": [
       "'/home/bene/projects/generative-models'"
      ]
     },
     "execution_count": 3,
     "metadata": {},
     "output_type": "execute_result"
    }
   ],
   "source": [
    "%cd ../../..\n",
    "%pwd"
   ]
  },
  {
   "cell_type": "code",
   "execution_count": 4,
   "id": "695f81d1",
   "metadata": {},
   "outputs": [],
   "source": [
    "from examples.world_model.world import World\n",
    "\n",
    "import numpy as np\n",
    "from ipywidgets import interact\n",
    "import matplotlib.pyplot as plt"
   ]
  },
  {
   "cell_type": "code",
   "execution_count": 5,
   "id": "aea6fe09",
   "metadata": {},
   "outputs": [],
   "source": [
    "PATH_CARRACING = 'examples/dataset/world_model/car_racing-random_walker.h5'"
   ]
  },
  {
   "cell_type": "code",
   "execution_count": 6,
   "id": "206fcc26",
   "metadata": {},
   "outputs": [],
   "source": [
    "env_repr = dict(class_='CarRacingWrapper',\n",
    "                module_='examples.world_model.envs.car_racing',\n",
    "                verbose=False,\n",
    "                )"
   ]
  },
  {
   "cell_type": "code",
   "execution_count": 7,
   "id": "25ac375a",
   "metadata": {},
   "outputs": [],
   "source": [
    "agent_repr = dict(class_='RandomWalker',\n",
    "                  module_='examples.world_model.controller.random_walker',\n",
    "                  action_space='Box(np.array([-1, 0, 0]), np.array([+1, +1, +1]), dtype=np.float32)',\n",
    "                  default_action=[0., 0., 0.],\n",
    "                  randomize_interval=5,                  \n",
    "                  )"
   ]
  },
  {
   "cell_type": "code",
   "execution_count": 8,
   "id": "58e735b7",
   "metadata": {},
   "outputs": [],
   "source": [
    "world_repr = dict(env=env_repr,\n",
    "                  agent=agent_repr,\n",
    "                  n_episodes=48,\n",
    "                  max_steps=2000,\n",
    "                  load_steps=50,\n",
    "                  verbose=True,\n",
    "                  render=False,                  \n",
    "                  log_fields=('action', 'reward', 'observation', ),\n",
    "                  log_foos={'observation': \"observation.transpose(2, 0, 1)\"}\n",
    "                  )"
   ]
  },
  {
   "cell_type": "code",
   "execution_count": 9,
   "id": "3a877e2b",
   "metadata": {},
   "outputs": [
    {
     "name": "stdout",
     "output_type": "stream",
     "text": [
      "Start async world rollouts.\n"
     ]
    },
    {
     "name": "stderr",
     "output_type": "stream",
     "text": [
      "/home/bene/anaconda3/envs/gempy/lib/python3.8/site-packages/gym/logger.py:30: UserWarning: \u001b[33mWARN: Box bound precision lowered by casting to float32\u001b[0m\n",
      "  warnings.warn(colorize('%s: %s'%('WARN', msg % args), 'yellow'))\n"
     ]
    },
    {
     "name": "stdout",
     "output_type": "stream",
     "text": [
      "Working on episode 1.\n",
      "Working on episode 2.\n",
      "Working on episode 3.\n",
      "Working on episode 4.\n",
      "Working on episode 5.\n",
      "Working on episode 6.\n",
      "Working on episode 7.\n",
      "Working on episode 8.\n",
      "Working on episode 9.\n",
      "Working on episode 10.\n",
      "Working on episode 11.\n",
      "Working on episode 12.\n",
      "Working on episode 13.\n",
      "Working on episode 14.\n",
      "Working on episode 15.\n",
      "Working on episode 16.\n",
      "Working on episode 17.\n",
      "Working on episode 18.\n",
      "Working on episode 19.\n",
      "Working on episode 20.\n",
      "Working on episode 21.\n",
      "Working on episode 22.\n",
      "Working on episode 23.\n",
      "Working on episode 24.\n",
      "Working on episode 25.\n",
      "Working on episode 26.\n",
      "Working on episode 27.\n",
      "Working on episode 28.\n",
      "Working on episode 29.\n",
      "Working on episode 30.\n",
      "Working on episode 31.\n",
      "Working on episode 32.\n",
      "Working on episode 33.\n",
      "Working on episode 34.\n",
      "Working on episode 35.\n",
      "Working on episode 36.\n",
      "Working on episode 37.\n",
      "Working on episode 38.\n",
      "Working on episode 39.\n",
      "Working on episode 40.\n",
      "Working on episode 41.\n",
      "Working on episode 42.\n",
      "Working on episode 43.\n",
      "Working on episode 44.\n",
      "Working on episode 45.\n",
      "Working on episode 46.\n",
      "Working on episode 47.\n",
      "Working on episode 48.\n",
      "Finished with async work-load.\n",
      "Saving rollout history to file `examples/dataset/world_model/car_racing-random_walker.h5`.\n",
      "Done.\n"
     ]
    }
   ],
   "source": [
    "world = World.make_async_rollouts(world_obj=world_repr,\n",
    "                                  n_worker=-1,\n",
    "                                  output_path=PATH_CARRACING,\n",
    "                                  )"
   ]
  },
  {
   "cell_type": "code",
   "execution_count": 10,
   "id": "b8e157c1",
   "metadata": {},
   "outputs": [
    {
     "data": {
      "application/vnd.jupyter.widget-view+json": {
       "model_id": "d43fc429e0fa494dab4c56d7e9af6be9",
       "version_major": 2,
       "version_minor": 0
      },
      "text/plain": [
       "interactive(children=(Dropdown(description='episode', options=(0, 1, 2, 3, 4, 5, 6, 7, 8, 9, 10, 11, 12, 13, 1…"
      ]
     },
     "metadata": {},
     "output_type": "display_data"
    }
   ],
   "source": [
    "@interact(x=True, y=1.0)\n",
    "def show_episode(episode=range(world.n_episodes),\n",
    "                 step=(0, world.log_steps, 1),\n",
    "                 true_colors=False,\n",
    "                ):\n",
    "    try:\n",
    "        plt.figure(figsize=(10, 10))\n",
    "        frame = world.log_history[episode]['observation'][step].transpose((1,2,0))/255.\n",
    "        if true_colors:\n",
    "            frame = 1 - frame\n",
    "        plt.imshow(frame)        \n",
    "        \n",
    "        r = world.log_history[episode]['reward'][step]\n",
    "        left_right = world.log_history[episode]['action'][step][0]\n",
    "        gas = world.log_history[episode]['action'][step][1]\n",
    "        brake = world.log_history[episode]['action'][step][2]\n",
    "        plt.title(f'r: {r:.2f}, L/R: {left_right:.2f}, G: {gas:.2f}, B: {brake:.2f}')\n",
    "        plt.xticks([])\n",
    "        plt.yticks([])\n",
    "    except:\n",
    "        pass"
   ]
  },
  {
   "cell_type": "code",
   "execution_count": null,
   "id": "6c618094",
   "metadata": {},
   "outputs": [],
   "source": []
  }
 ],
 "metadata": {
  "kernelspec": {
   "display_name": "Python 3",
   "language": "python",
   "name": "python3"
  },
  "language_info": {
   "codemirror_mode": {
    "name": "ipython",
    "version": 3
   },
   "file_extension": ".py",
   "mimetype": "text/x-python",
   "name": "python",
   "nbconvert_exporter": "python",
   "pygments_lexer": "ipython3",
   "version": "3.8.10"
  }
 },
 "nbformat": 4,
 "nbformat_minor": 5
}
