{
 "cells": [
  {
   "cell_type": "code",
   "execution_count": 1,
   "id": "dc688081",
   "metadata": {},
   "outputs": [],
   "source": [
    "%load_ext autoreload\n",
    "%autoreload 2\n",
    "\n",
    "%matplotlib inline\n",
    "\n",
    "import os\n",
    "import numpy as np\n",
    "import matplotlib.pyplot as plt"
   ]
  },
  {
   "cell_type": "code",
   "execution_count": 2,
   "id": "fcde8850",
   "metadata": {},
   "outputs": [
    {
     "data": {
      "text/plain": [
       "'/home/bene/projects/generative-models/examples'"
      ]
     },
     "execution_count": 2,
     "metadata": {},
     "output_type": "execute_result"
    }
   ],
   "source": [
    "%pwd"
   ]
  },
  {
   "cell_type": "code",
   "execution_count": 3,
   "id": "cb78150c",
   "metadata": {},
   "outputs": [
    {
     "name": "stdout",
     "output_type": "stream",
     "text": [
      "/home/bene/projects/generative-models\n"
     ]
    }
   ],
   "source": [
    "juypter_root = os.readlink('/proc/%s/cwd' % os.environ['JPY_PARENT_PID'])\n",
    "%cd $juypter_root"
   ]
  },
  {
   "cell_type": "code",
   "execution_count": 4,
   "id": "3ae4041e",
   "metadata": {},
   "outputs": [],
   "source": [
    "BATCH_SIZE = 128\n",
    "LEARNING_RATE = 0.01\n",
    "\n",
    "EMB_LOSS = 1.\n",
    "\n",
    "EPOCHS = 10"
   ]
  },
  {
   "cell_type": "code",
   "execution_count": 5,
   "id": "129d032a",
   "metadata": {},
   "outputs": [],
   "source": [
    "from gempy.let_it_scan_images import Lisi\n",
    "\n",
    "import torch\n",
    "from torch import nn\n",
    "import torchvision\n",
    "import torchvision.transforms as transforms"
   ]
  },
  {
   "cell_type": "code",
   "execution_count": 6,
   "id": "8af81430",
   "metadata": {},
   "outputs": [],
   "source": [
    "def get_MNIST(batch_size, dataset_directory, dataloader_workers, source='MNIST'):\n",
    "    # Prepare dataset for training\n",
    "    train_transformation = torchvision.transforms.Compose([torchvision.transforms.ToTensor(),])\n",
    "    \n",
    "    data_source = getattr(torchvision.datasets, source)\n",
    "    \n",
    "    train_dataset = data_source(root=dataset_directory, train=True, download=True, transform=train_transformation)\n",
    "\n",
    "    test_dataset =  data_source(root=dataset_directory, train=False, download=True, transform=train_transformation)\n",
    "\n",
    "    # Prepare Data Loaders for training and validation\n",
    "    train_loader = torch.utils.data.DataLoader(train_dataset, batch_size=batch_size, shuffle=True,\n",
    "                                               pin_memory=True, num_workers=dataloader_workers)\n",
    "\n",
    "    # Prepare Data Loaders for training and validation\n",
    "    test_loader = torch.utils.data.DataLoader(test_dataset, batch_size=batch_size, shuffle=False,\n",
    "                                              pin_memory=True, num_workers=dataloader_workers)\n",
    "\n",
    "    return train_dataset, test_dataset, train_loader, test_loader"
   ]
  },
  {
   "cell_type": "code",
   "execution_count": 7,
   "id": "12d87ccb",
   "metadata": {},
   "outputs": [],
   "source": [
    "train_dataset, test_dataset, train_loader, test_loader = get_MNIST(BATCH_SIZE, 'examples/dataset', 12, 'MNIST')"
   ]
  },
  {
   "cell_type": "code",
   "execution_count": 8,
   "id": "910417e7",
   "metadata": {},
   "outputs": [
    {
     "name": "stdout",
     "output_type": "stream",
     "text": [
      "input shape: (1, 28, 28)\n"
     ]
    },
    {
     "data": {
      "image/png": "[encoded data removed]",
      "text/plain": [
       "<Figure size 1080x360 with 10 Axes>"
      ]
     },
     "metadata": {},
     "output_type": "display_data"
    }
   ],
   "source": [
    "f, axes = plt.subplots(1, 10, figsize=(15, 5))\n",
    "for ax in axes:\n",
    "    tensor = train_dataset[np.random.randint(len(train_dataset))][0]\n",
    "    ax.imshow(tensor.detach().numpy().transpose(1,2,0), cmap='binary')\n",
    "    ax.set_xticks([]); ax.set_yticks([])\n",
    "\n",
    "input_shape = tuple(train_dataset[0][0].shape)\n",
    "print('input shape:', input_shape)"
   ]
  },
  {
   "cell_type": "code",
   "execution_count": 9,
   "id": "242d1d1e",
   "metadata": {},
   "outputs": [],
   "source": [
    "IN_CHANNELS = input_shape[0]\n",
    "KERNEL_SIZE = 3\n",
    "EMBEDDING_SIZE = 32\n",
    "DOPOUT = 0.5\n",
    "HIDDEN_SIZE = 10\n",
    "N_COMPONENTS = 5\n",
    "\n",
    "OUTPUT_SIZE = 10\n",
    "\n",
    "NOISE_LEVEL = 0.025\n",
    "MAX_ITER = 0.75"
   ]
  },
  {
   "cell_type": "code",
   "execution_count": 10,
   "id": "c4d0cc04",
   "metadata": {},
   "outputs": [],
   "source": [
    "head = nn.Sequential(nn.Linear(HIDDEN_SIZE, OUTPUT_SIZE), \n",
    "                     nn.ELU(),  # nn.LeakyReLU(),\n",
    "                    )"
   ]
  },
  {
   "cell_type": "code",
   "execution_count": 11,
   "id": "1c970670",
   "metadata": {},
   "outputs": [
    {
     "name": "stdout",
     "output_type": "stream",
     "text": [
      "GPU available\n"
     ]
    }
   ],
   "source": [
    "device = 'cpu'\n",
    "if torch.cuda.is_available():\n",
    "    print (f'GPU available')\n",
    "    device = 'cuda'"
   ]
  },
  {
   "cell_type": "code",
   "execution_count": 12,
   "id": "c8e770bc",
   "metadata": {},
   "outputs": [],
   "source": [
    "model = Lisi(in_channels=IN_CHANNELS, \n",
    "             kernel_size=KERNEL_SIZE,\n",
    "             embedding_size=EMBEDDING_SIZE,\n",
    "             dropout=DOPOUT,\n",
    "             hidden_size=HIDDEN_SIZE,\n",
    "             n_components=N_COMPONENTS,\n",
    "             head=head,\n",
    "             noise_level=NOISE_LEVEL,\n",
    "             max_iter=MAX_ITER,\n",
    "            )\n",
    "\n",
    "model = model.to(device)"
   ]
  },
  {
   "cell_type": "code",
   "execution_count": 13,
   "id": "df122479",
   "metadata": {},
   "outputs": [
    {
     "data": {
      "text/plain": [
       "(torch.Size([2, 10]),\n",
       " tensor([[ 0.6198,  0.1085,  0.2727, -0.1241, -0.0731,  0.2415, -0.3962, -0.1846,\n",
       "          -0.0969, -0.3116],\n",
       "         [ 0.5968,  0.1218,  0.3260, -0.0768, -0.0927,  0.2820, -0.4077, -0.0850,\n",
       "          -0.0596, -0.2974]], device='cuda:0', grad_fn=<EluBackward0>))"
      ]
     },
     "execution_count": 13,
     "metadata": {},
     "output_type": "execute_result"
    }
   ],
   "source": [
    "x_random = torch.randn(2, *input_shape, device=device)\n",
    "y, *args = model(x_random)\n",
    "y.shape, y"
   ]
  },
  {
   "cell_type": "code",
   "execution_count": 14,
   "id": "02bd7037",
   "metadata": {},
   "outputs": [],
   "source": [
    "optimizer = torch.optim.Adam(model.parameters(), lr=LEARNING_RATE)\n",
    "criterion_cat = nn.CrossEntropyLoss()\n",
    "criterion_mse = nn.MSELoss()"
   ]
  },
  {
   "cell_type": "code",
   "execution_count": null,
   "id": "77cf2050",
   "metadata": {},
   "outputs": [
    {
     "name": "stdout",
     "output_type": "stream",
     "text": [
      "[1,    20] loss: 3.729\n",
      "[1,    40] loss: 3.428\n"
     ]
    }
   ],
   "source": [
    "for epoch in range(EPOCHS):  # loop over the dataset multiple times\n",
    "\n",
    "    running_loss = 0.0\n",
    "    for i, data in enumerate(train_loader, 0):\n",
    "        # get the inputs; data is a list of [inputs, labels]\n",
    "        inputs, labels = data\n",
    "        inputs = inputs.to(device)\n",
    "        labels = labels.to(device)\n",
    "\n",
    "        # zero the parameter gradients\n",
    "        optimizer.zero_grad()\n",
    "\n",
    "        # forward + backward + optimize\n",
    "        outputs, (coords, target_embeddings, predicted_embeddings) = model(inputs)\n",
    "        loss_mnist = criterion_cat(outputs, labels)\n",
    "        loss_embedding = criterion_mse(predicted_embeddings, target_embeddings[:, 1:])\n",
    "        loss = loss_mnist + loss_embedding * EMB_LOSS\n",
    "        loss.backward()\n",
    "        optimizer.step()\n",
    "\n",
    "        # print statistics\n",
    "        running_loss += loss.item()\n",
    "        if i % 20 == 19:    # print every 2000 mini-batches\n",
    "            print('[%d, %5d] loss: %.3f' % (epoch + 1, i + 1, running_loss / 20))\n",
    "            running_loss = 0.0\n",
    "\n",
    "print('Finished Training')"
   ]
  },
  {
   "cell_type": "markdown",
   "id": "50827492",
   "metadata": {},
   "source": [
    "##### "
   ]
  }
 ],
 "metadata": {
  "kernelspec": {
   "display_name": "gempy",
   "language": "python",
   "name": "gempy"
  },
  "language_info": {
   "codemirror_mode": {
    "name": "ipython",
    "version": 3
   },
   "file_extension": ".py",
   "mimetype": "text/x-python",
   "name": "python",
   "nbconvert_exporter": "python",
   "pygments_lexer": "ipython3",
   "version": "3.8.2"
  }
 },
 "nbformat": 4,
 "nbformat_minor": 5
}
