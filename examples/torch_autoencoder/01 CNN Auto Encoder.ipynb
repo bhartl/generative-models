{
 "cells": [
  {
   "cell_type": "code",
   "execution_count": 1,
   "id": "43cd0283",
   "metadata": {},
   "outputs": [],
   "source": [
    "%load_ext autoreload\n",
    "%autoreload 2"
   ]
  },
  {
   "cell_type": "code",
   "execution_count": 2,
   "id": "67bc25b9",
   "metadata": {},
   "outputs": [
    {
     "data": {
      "text/plain": [
       "'F:\\\\projects\\\\generative-models\\\\examples\\\\torch_autoencoder'"
      ]
     },
     "execution_count": 2,
     "metadata": {},
     "output_type": "execute_result"
    }
   ],
   "source": [
    "%pwd"
   ]
  },
  {
   "cell_type": "code",
   "execution_count": 3,
   "id": "89f49cc3",
   "metadata": {},
   "outputs": [
    {
     "name": "stdout",
     "output_type": "stream",
     "text": [
      "F:\\projects\\generative-models\n"
     ]
    },
    {
     "data": {
      "text/plain": [
       "'F:\\\\projects\\\\generative-models'"
      ]
     },
     "execution_count": 3,
     "metadata": {},
     "output_type": "execute_result"
    }
   ],
   "source": [
    "%cd ../..\n",
    "%pwd"
   ]
  },
  {
   "cell_type": "code",
   "execution_count": 4,
   "id": "b8b37257",
   "metadata": {},
   "outputs": [],
   "source": [
    "import torch\n",
    "from gempy.torch.encoder import ConvEncoder\n",
    "from gempy.torch.decoder import ConvDecoder\n",
    "from gempy.torch.auto_encoder import AutoEncoder"
   ]
  },
  {
   "cell_type": "code",
   "execution_count": 5,
   "id": "f33dfd0b",
   "metadata": {},
   "outputs": [],
   "source": [
    "input_dim = (1, 28, 28)\n",
    "z_dim = (4, )\n",
    "z_labels = ('z', )"
   ]
  },
  {
   "cell_type": "code",
   "execution_count": 6,
   "id": "a595281b",
   "metadata": {},
   "outputs": [
    {
     "name": "stdout",
     "output_type": "stream",
     "text": [
      "GPU available\n"
     ]
    }
   ],
   "source": [
    "device = 'cpu'\n",
    "if torch.cuda.is_available():\n",
    "    print (f'GPU available')\n",
    "    device = 'cuda'\n",
    "\n",
    "x_random = torch.randn(1, *input_dim)\n",
    "x_random = x_random.to(device)"
   ]
  },
  {
   "cell_type": "code",
   "execution_count": 7,
   "id": "9d16f088",
   "metadata": {},
   "outputs": [
    {
     "data": {
      "text/plain": [
       "ConvEncoder(\n",
       "  (conv_0): Conv2d(1, 32, kernel_size=(3, 3), stride=(1, 1))\n",
       "  (conv_1): Conv2d(32, 64, kernel_size=(3, 3), stride=(2, 2))\n",
       "  (conv_2): Conv2d(64, 64, kernel_size=(3, 3), stride=(2, 2))\n",
       "  (conv_3): Conv2d(64, 64, kernel_size=(3, 3), stride=(1, 1))\n",
       "  (latent_flatten): Flatten(start_dim=1, end_dim=-1)\n",
       "  (latent_z): Linear(in_features=576, out_features=4, bias=True)\n",
       ")"
      ]
     },
     "execution_count": 7,
     "metadata": {},
     "output_type": "execute_result"
    }
   ],
   "source": [
    "encoder = ConvEncoder(\n",
    "    input_dim=input_dim,\n",
    "    filters=(32, 64, 64, 64),\n",
    "    #filters=(8, 16, 16, 16),\n",
    "    kernel_size=(3, 3, 3, 3),\n",
    "    strides=(1, 2, 2, 1),\n",
    "    activation='leaky_relu',\n",
    "    latent_dim=z_dim,\n",
    "    latent_labels=z_labels,\n",
    "    latent_activation='sigmoid',\n",
    ")\n",
    "\n",
    "encoer = encoder.to(device)\n",
    "encoder"
   ]
  },
  {
   "cell_type": "code",
   "execution_count": 8,
   "id": "136095e1",
   "metadata": {},
   "outputs": [
    {
     "data": {
      "text/plain": [
       "ConvDecoder(\n",
       "  (decode_latent_0): Linear(in_features=4, out_features=576, bias=True)\n",
       "  (decode_conv_t_0): ConvTranspose2d(64, 64, kernel_size=(3, 3), stride=(1, 1))\n",
       "  (decode_conv_t_1): ConvTranspose2d(64, 64, kernel_size=(4, 4), stride=(2, 2))\n",
       "  (decode_conv_t_2): ConvTranspose2d(64, 32, kernel_size=(4, 4), stride=(2, 2))\n",
       "  (decode_conv_t_3): ConvTranspose2d(32, 1, kernel_size=(3, 3), stride=(1, 1))\n",
       ")"
      ]
     },
     "execution_count": 8,
     "metadata": {},
     "output_type": "execute_result"
    }
   ],
   "source": [
    "decoder = ConvDecoder(\n",
    "    latent_dim=z_dim,\n",
    "    latent_upscale=(64, 3, 3),\n",
    "    filters=[64, 64, 32, 1],\n",
    "    #filters=[16, 16, 8, 1],\n",
    "    kernel_size=[3, 4, 4, 3],\n",
    "    strides=[1, 2, 2, 1],\n",
    "    activation=['leaky_relu', 'leaky_relu', 'leaky_relu', 'sigmoid'],\n",
    "    latent_merge=False,\n",
    "    latent_activation=None,\n",
    ")\n",
    "\n",
    "decoder = decoder.to('cuda')\n",
    "decoder"
   ]
  },
  {
   "cell_type": "code",
   "execution_count": 9,
   "id": "8c37430f",
   "metadata": {},
   "outputs": [
    {
     "name": "stdout",
     "output_type": "stream",
     "text": [
      "layer activation:  <function leaky_relu at 0x000001AB67959040>\n",
      "layer activation:  <function leaky_relu at 0x000001AB67959040>\n",
      "layer activation:  <function leaky_relu at 0x000001AB67959040>\n",
      "layer activation:  <built-in method sigmoid of type object at 0x00007FFBDF946620>\n"
     ]
    }
   ],
   "source": [
    "for l in decoder.conv_stack:\n",
    "    print('layer activation: ', l[-2])"
   ]
  },
  {
   "cell_type": "code",
   "execution_count": 10,
   "id": "93979f90",
   "metadata": {},
   "outputs": [
    {
     "data": {
      "text/plain": [
       "AutoEncoder(\n",
       "  (encoder): ConvEncoder(\n",
       "    (conv_0): Conv2d(1, 32, kernel_size=(3, 3), stride=(1, 1))\n",
       "    (conv_1): Conv2d(32, 64, kernel_size=(3, 3), stride=(2, 2))\n",
       "    (conv_2): Conv2d(64, 64, kernel_size=(3, 3), stride=(2, 2))\n",
       "    (conv_3): Conv2d(64, 64, kernel_size=(3, 3), stride=(1, 1))\n",
       "    (latent_flatten): Flatten(start_dim=1, end_dim=-1)\n",
       "    (latent_z): Linear(in_features=576, out_features=4, bias=True)\n",
       "  )\n",
       "  (decoder): ConvDecoder(\n",
       "    (decode_latent_0): Linear(in_features=4, out_features=576, bias=True)\n",
       "    (decode_conv_t_0): ConvTranspose2d(64, 64, kernel_size=(3, 3), stride=(1, 1))\n",
       "    (decode_conv_t_1): ConvTranspose2d(64, 64, kernel_size=(4, 4), stride=(2, 2))\n",
       "    (decode_conv_t_2): ConvTranspose2d(64, 32, kernel_size=(4, 4), stride=(2, 2))\n",
       "    (decode_conv_t_3): ConvTranspose2d(32, 1, kernel_size=(3, 3), stride=(1, 1))\n",
       "  )\n",
       ")"
      ]
     },
     "execution_count": 10,
     "metadata": {},
     "output_type": "execute_result"
    }
   ],
   "source": [
    "auto_encoder = AutoEncoder(\n",
    "    encoder=encoder,\n",
    "    decoder=decoder,\n",
    ")\n",
    "\n",
    "auto_encoder = auto_encoder.to(device)\n",
    "auto_encoder"
   ]
  },
  {
   "cell_type": "code",
   "execution_count": 11,
   "id": "79148b28",
   "metadata": {},
   "outputs": [
    {
     "name": "stdout",
     "output_type": "stream",
     "text": [
      "input shape     : (1, 28, 28)\n",
      "latent shape     : (64, 3, 3)\n",
      "z shape          : (4,)\n",
      "output shape    : (1, 28, 28)\n"
     ]
    }
   ],
   "source": [
    "print('input shape     :', auto_encoder.encoder.conv_stack_shape_in)\n",
    "print('latent shape     :', auto_encoder.encoder.conv_stack_shape_out)\n",
    "print('z shape          :', z_dim)\n",
    "print('output shape    :', auto_encoder.decoder.conv_stack_shape_out)"
   ]
  },
  {
   "cell_type": "code",
   "execution_count": 12,
   "id": "a86bcab4",
   "metadata": {},
   "outputs": [
    {
     "name": "stdout",
     "output_type": "stream",
     "text": [
      "latent space    : {'z': tensor([[0.5024, 0.5061, 0.4998, 0.5098]], device='cuda:0',\n",
      "       grad_fn=<SigmoidBackward>)}\n",
      "output shape    : torch.Size([1, 1, 28, 28])\n"
     ]
    }
   ],
   "source": [
    "y = auto_encoder(x_random)\n",
    "\n",
    "print('latent space    :', encoder.latent_torch)\n",
    "print('output shape    :', y.shape)\n"
   ]
  },
  {
   "cell_type": "code",
   "execution_count": 13,
   "id": "38c57f1f",
   "metadata": {},
   "outputs": [
    {
     "name": "stdout",
     "output_type": "stream",
     "text": [
      "torch.Size([32, 1, 3, 3])\n",
      "torch.Size([32])\n",
      "torch.Size([64, 32, 3, 3])\n",
      "torch.Size([64])\n",
      "torch.Size([64, 64, 3, 3])\n",
      "torch.Size([64])\n",
      "torch.Size([64, 64, 3, 3])\n",
      "torch.Size([64])\n",
      "torch.Size([4, 576])\n",
      "torch.Size([4])\n",
      "torch.Size([576, 4])\n",
      "torch.Size([576])\n",
      "torch.Size([64, 64, 3, 3])\n",
      "torch.Size([64])\n",
      "torch.Size([64, 64, 4, 4])\n",
      "torch.Size([64])\n",
      "torch.Size([64, 32, 4, 4])\n",
      "torch.Size([32])\n",
      "torch.Size([32, 1, 3, 3])\n",
      "torch.Size([1])\n"
     ]
    }
   ],
   "source": [
    "for p in auto_encoder.parameters():\n",
    "    print(p.shape)"
   ]
  },
  {
   "cell_type": "code",
   "execution_count": 14,
   "id": "453bc077",
   "metadata": {},
   "outputs": [],
   "source": [
    "import torch\n",
    "import torchvision\n",
    "import torchvision.transforms as transforms\n",
    "\n",
    "def get_cifar10(batch_size, dataset_directory, dataloader_workers):\n",
    "    # Prepare dataset for training\n",
    "    train_transformation = transforms.Compose([\n",
    "        transforms.ToTensor(),\n",
    "        transforms.Normalize((0.5, 0.5, 0.5), (0.5, 0.5, 0.5)),\n",
    "    ])\n",
    "    train_dataset = torchvision.datasets.CIFAR10(root=dataset_directory, train=True,\n",
    "                                                 download=True, transform=train_transformation)\n",
    "    \n",
    "    test_dataset =  torchvision.datasets.CIFAR10(root=dataset_directory, train=False,\n",
    "                                                 download=True, transform=train_transformation)\n",
    "\n",
    "    # Prepare Data Loaders for training and validation\n",
    "    train_loader = torch.utils.data.DataLoader(train_dataset, batch_size=batch_size, shuffle=True,\n",
    "                                               pin_memory=True, num_workers=dataloader_workers)\n",
    "\n",
    "    return train_dataset, train_loader\n",
    "\n",
    "def get_MNIST(batch_size, dataset_directory, dataloader_workers):\n",
    "    # Prepare dataset for training\n",
    "    train_transformation = torchvision.transforms.Compose([torchvision.transforms.ToTensor(),])\n",
    "    \n",
    "    train_dataset = torchvision.datasets.MNIST(root=dataset_directory, train=True,\n",
    "                                               download=True, transform=train_transformation)\n",
    "    \n",
    "    test_dataset =  torchvision.datasets.MNIST(root=dataset_directory, train=False,\n",
    "                                               download=True, transform=train_transformation)\n",
    "\n",
    "    # Prepare Data Loaders for training and validation\n",
    "    train_loader = torch.utils.data.DataLoader(train_dataset, batch_size=batch_size, shuffle=True,\n",
    "                                               pin_memory=True, num_workers=dataloader_workers)\n",
    "\n",
    "    return train_dataset, train_loader"
   ]
  },
  {
   "cell_type": "code",
   "execution_count": 15,
   "id": "286c50b8",
   "metadata": {},
   "outputs": [],
   "source": [
    "train_dataset, train_loader = get_MNIST(64, 'examples/torch_autoencoder/data/MNIST', 4)"
   ]
  },
  {
   "cell_type": "code",
   "execution_count": 16,
   "id": "41c2d519",
   "metadata": {},
   "outputs": [],
   "source": [
    "# create an optimizer object\n",
    "# Adam optimizer with learning rate 1e-3\n",
    "optimizer = torch.optim.Adam(auto_encoder.parameters(), lr=1e-4)"
   ]
  },
  {
   "cell_type": "code",
   "execution_count": 17,
   "id": "f51b3148",
   "metadata": {},
   "outputs": [],
   "source": [
    "# mean-squared error loss\n",
    "criterion = torch.nn.MSELoss()"
   ]
  },
  {
   "cell_type": "code",
   "execution_count": 18,
   "id": "eb58df55",
   "metadata": {},
   "outputs": [
    {
     "data": {
      "text/plain": [
       "<matplotlib.image.AxesImage at 0x1ab68f38d00>"
      ]
     },
     "execution_count": 18,
     "metadata": {},
     "output_type": "execute_result"
    },
    {
     "data": {
      "image/png": "[encoded data removed]",
      "text/plain": [
       "<Figure size 432x288 with 1 Axes>"
      ]
     },
     "metadata": {
      "needs_background": "light"
     },
     "output_type": "display_data"
    }
   ],
   "source": [
    "import matplotlib.pyplot as plt\n",
    "\n",
    "plt.imshow(train_dataset[10][0].detach().numpy().transpose(1,2,0))"
   ]
  },
  {
   "cell_type": "code",
   "execution_count": 19,
   "id": "4e078b27",
   "metadata": {},
   "outputs": [
    {
     "name": "stdout",
     "output_type": "stream",
     "text": [
      "epoch : 1/100, loss = 0.082558\n",
      "epoch : 2/100, loss = 0.067470\n",
      "epoch : 3/100, loss = 0.067370\n",
      "epoch : 4/100, loss = 0.067330\n",
      "epoch : 5/100, loss = 0.067324\n",
      "epoch : 6/100, loss = 0.067320\n",
      "epoch : 7/100, loss = 0.067306\n",
      "epoch : 8/100, loss = 0.067309\n",
      "epoch : 9/100, loss = 0.067307\n",
      "epoch : 10/100, loss = 0.067307\n",
      "epoch : 11/100, loss = 0.067304\n",
      "epoch : 12/100, loss = 0.067300\n",
      "epoch : 13/100, loss = 0.067308\n",
      "epoch : 14/100, loss = 0.067294\n",
      "epoch : 15/100, loss = 0.067297\n",
      "epoch : 16/100, loss = 0.067293\n",
      "epoch : 17/100, loss = 0.067288\n",
      "epoch : 18/100, loss = 0.067291\n",
      "epoch : 19/100, loss = 0.067288\n",
      "epoch : 20/100, loss = 0.067287\n",
      "epoch : 21/100, loss = 0.067285\n",
      "epoch : 22/100, loss = 0.067287\n",
      "epoch : 23/100, loss = 0.067285\n",
      "epoch : 24/100, loss = 0.067287\n",
      "epoch : 25/100, loss = 0.067287\n",
      "epoch : 26/100, loss = 0.067284\n",
      "epoch : 27/100, loss = 0.067286\n",
      "epoch : 28/100, loss = 0.067283\n",
      "epoch : 29/100, loss = 0.067280\n",
      "epoch : 30/100, loss = 0.067286\n",
      "epoch : 31/100, loss = 0.067281\n",
      "epoch : 32/100, loss = 0.067280\n",
      "epoch : 33/100, loss = 0.067279\n",
      "epoch : 34/100, loss = 0.067278\n",
      "epoch : 35/100, loss = 0.067280\n",
      "epoch : 36/100, loss = 0.067281\n",
      "epoch : 37/100, loss = 0.067283\n",
      "epoch : 38/100, loss = 0.067278\n",
      "epoch : 39/100, loss = 0.067281\n",
      "epoch : 40/100, loss = 0.067279\n",
      "epoch : 41/100, loss = 0.067280\n",
      "epoch : 42/100, loss = 0.067274\n",
      "epoch : 43/100, loss = 0.067276\n",
      "epoch : 44/100, loss = 0.067277\n",
      "epoch : 45/100, loss = 0.067283\n",
      "epoch : 46/100, loss = 0.067278\n",
      "epoch : 47/100, loss = 0.067272\n",
      "epoch : 48/100, loss = 0.067276\n",
      "epoch : 49/100, loss = 0.067274\n",
      "epoch : 50/100, loss = 0.067280\n",
      "epoch : 51/100, loss = 0.067272\n",
      "epoch : 52/100, loss = 0.067276\n",
      "epoch : 53/100, loss = 0.067280\n",
      "epoch : 54/100, loss = 0.067272\n",
      "epoch : 55/100, loss = 0.067273\n",
      "epoch : 56/100, loss = 0.067273\n",
      "epoch : 57/100, loss = 0.067274\n",
      "epoch : 58/100, loss = 0.067272\n",
      "epoch : 59/100, loss = 0.067272\n",
      "epoch : 60/100, loss = 0.067274\n",
      "epoch : 61/100, loss = 0.067272\n",
      "epoch : 62/100, loss = 0.067273\n",
      "epoch : 63/100, loss = 0.067274\n",
      "epoch : 64/100, loss = 0.067270\n",
      "epoch : 65/100, loss = 0.067275\n",
      "epoch : 66/100, loss = 0.067270\n",
      "epoch : 67/100, loss = 0.067270\n",
      "epoch : 68/100, loss = 0.067271\n",
      "epoch : 69/100, loss = 0.067273\n",
      "epoch : 70/100, loss = 0.067271\n",
      "epoch : 71/100, loss = 0.067270\n",
      "epoch : 72/100, loss = 0.067273\n",
      "epoch : 73/100, loss = 0.067274\n",
      "epoch : 74/100, loss = 0.067268\n",
      "epoch : 75/100, loss = 0.067271\n",
      "epoch : 76/100, loss = 0.067272\n",
      "epoch : 77/100, loss = 0.067269\n",
      "epoch : 78/100, loss = 0.067267\n",
      "epoch : 79/100, loss = 0.067270\n",
      "epoch : 80/100, loss = 0.067271\n",
      "epoch : 81/100, loss = 0.067271\n",
      "epoch : 82/100, loss = 0.067272\n",
      "epoch : 83/100, loss = 0.067268\n",
      "epoch : 84/100, loss = 0.067271\n",
      "epoch : 85/100, loss = 0.067265\n",
      "epoch : 86/100, loss = 0.067270\n",
      "epoch : 87/100, loss = 0.067267\n",
      "epoch : 88/100, loss = 0.067266\n",
      "epoch : 89/100, loss = 0.067265\n",
      "epoch : 90/100, loss = 0.067269\n",
      "epoch : 91/100, loss = 0.067267\n",
      "epoch : 92/100, loss = 0.067274\n",
      "epoch : 93/100, loss = 0.067268\n",
      "epoch : 94/100, loss = 0.067268\n",
      "epoch : 95/100, loss = 0.067265\n",
      "epoch : 96/100, loss = 0.067272\n",
      "epoch : 97/100, loss = 0.067264\n",
      "epoch : 98/100, loss = 0.067269\n",
      "epoch : 99/100, loss = 0.067267\n",
      "epoch : 100/100, loss = 0.067270\n"
     ]
    }
   ],
   "source": [
    "epochs = 100\n",
    "\n",
    "for epoch in range(epochs):\n",
    "    loss = 0\n",
    "    for batch_features, _ in train_loader:\n",
    "        # reshape mini-batch data to [N, 784] matrix\n",
    "        # load it to the active device\n",
    "        # batch_features = batch_features.view(-1, 784).to(device)\n",
    "        batch_features = batch_features.to(device)\n",
    "        \n",
    "        # reset the gradients back to zero\n",
    "        # PyTorch accumulates gradients on subsequent backward passes\n",
    "        optimizer.zero_grad()\n",
    "        \n",
    "        # compute reconstructions\n",
    "        outputs = auto_encoder(batch_features)\n",
    "        \n",
    "        # compute training reconstruction loss\n",
    "        train_loss = criterion(outputs, batch_features)\n",
    "        \n",
    "        # compute accumulated gradients\n",
    "        train_loss.backward()\n",
    "        \n",
    "        # perform parameter update based on current gradients\n",
    "        optimizer.step()\n",
    "        \n",
    "        # add the mini-batch training loss to epoch loss\n",
    "        loss += train_loss.item()\n",
    "    \n",
    "    # compute the epoch training loss\n",
    "    loss = loss / len(train_loader)\n",
    "    \n",
    "    # display the epoch training loss\n",
    "    print(\"epoch : {}/{}, loss = {:.6f}\".format(epoch + 1, epochs, loss))"
   ]
  },
  {
   "cell_type": "code",
   "execution_count": 28,
   "id": "994a0ea7",
   "metadata": {},
   "outputs": [
    {
     "data": {
      "text/plain": [
       "<matplotlib.image.AxesImage at 0x1abd60f4ac0>"
      ]
     },
     "execution_count": 28,
     "metadata": {},
     "output_type": "execute_result"
    },
    {
     "data": {
      "image/png": "[encoded data removed]",
      "text/plain": [
       "<Figure size 432x288 with 1 Axes>"
      ]
     },
     "metadata": {
      "needs_background": "light"
     },
     "output_type": "display_data"
    }
   ],
   "source": [
    "import numpy as np\n",
    "\n",
    "z_rand = np.random.rand(*z_dim)\n",
    "t_rand = torch.from_numpy(z_rand[None, ...]).float().to(device)\n",
    "\n",
    "y_rand = auto_encoder.decoder(t_rand)\n",
    "\n",
    "y = y_rand[0].detach().cpu().numpy()\n",
    "plt.imshow(y.transpose(1,2,0))"
   ]
  },
  {
   "cell_type": "code",
   "execution_count": null,
   "id": "8a3fc15b",
   "metadata": {},
   "outputs": [],
   "source": []
  }
 ],
 "metadata": {
  "kernelspec": {
   "display_name": "Python 3",
   "language": "python",
   "name": "python3"
  },
  "language_info": {
   "codemirror_mode": {
    "name": "ipython",
    "version": 3
   },
   "file_extension": ".py",
   "mimetype": "text/x-python",
   "name": "python",
   "nbconvert_exporter": "python",
   "pygments_lexer": "ipython3",
   "version": "3.8.10"
  }
 },
 "nbformat": 4,
 "nbformat_minor": 5
}
